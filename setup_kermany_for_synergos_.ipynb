{
 "cells": [
  {
   "cell_type": "code",
   "execution_count": 107,
   "metadata": {},
   "outputs": [],
   "source": [
    "import glob, os\n",
    "import shutil\n",
    "import json\n",
    "import random\n",
    "\n",
    "import numpy as np\n",
    "import pandas as pd\n",
    "from sklearn.model_selection import train_test_split"
   ]
  },
  {
   "cell_type": "code",
   "execution_count": 92,
   "metadata": {},
   "outputs": [],
   "source": [
    "num_workers = 3\n",
    "dataset = 'kermany'\n",
    "dataset_info = 'kermany_metadata.csv'\n",
    "worker_path = '.'\n",
    "\n",
    "metadata = {\n",
    "    \"datatype\": \"image\",\n",
    "    \"operations\": {\n",
    "        'use_grayscale': True,\n",
    "        'use_alpha': False,\n",
    "        'use_deepaugment': True\n",
    "    }\n",
    "}"
   ]
  },
  {
   "cell_type": "code",
   "execution_count": 93,
   "metadata": {},
   "outputs": [],
   "source": [
    "for i in range(num_workers):\n",
    "    os.makedirs(worker_path + '/worker_{0}/{1}/train'.format(i, dataset))\n",
    "    os.makedirs(worker_path + '/worker_{0}/{1}/test'.format(i, dataset))\n",
    "    # create metadata.json\n",
    "    with open(worker_path + '/worker_{0}/{1}/train/metadata.json'.format(i, dataset), 'w') as f:\n",
    "        json.dump(metadata, f)\n",
    "    with open(worker_path + '/worker_{0}/{1}/test/metadata.json'.format(i, dataset), 'w') as f:\n",
    "        json.dump(metadata, f)"
   ]
  },
  {
   "cell_type": "code",
   "execution_count": 94,
   "metadata": {},
   "outputs": [
    {
     "data": {
      "text/html": [
       "<div>\n",
       "<style scoped>\n",
       "    .dataframe tbody tr th:only-of-type {\n",
       "        vertical-align: middle;\n",
       "    }\n",
       "\n",
       "    .dataframe tbody tr th {\n",
       "        vertical-align: top;\n",
       "    }\n",
       "\n",
       "    .dataframe thead th {\n",
       "        text-align: right;\n",
       "    }\n",
       "</style>\n",
       "<table border=\"1\" class=\"dataframe\">\n",
       "  <thead>\n",
       "    <tr style=\"text-align: right;\">\n",
       "      <th></th>\n",
       "      <th>path</th>\n",
       "      <th>target</th>\n",
       "      <th>subject</th>\n",
       "      <th>serial</th>\n",
       "      <th>image</th>\n",
       "      <th>source</th>\n",
       "    </tr>\n",
       "  </thead>\n",
       "  <tbody>\n",
       "    <tr>\n",
       "      <th>0</th>\n",
       "      <td>./train/NORMAL/NORMAL-4161487-6.jpeg</td>\n",
       "      <td>0</td>\n",
       "      <td>4161487</td>\n",
       "      <td>6</td>\n",
       "      <td>NORMAL-4161487-6.jpeg</td>\n",
       "      <td>train</td>\n",
       "    </tr>\n",
       "    <tr>\n",
       "      <th>1</th>\n",
       "      <td>./train/NORMAL/NORMAL-9103640-1.jpeg</td>\n",
       "      <td>0</td>\n",
       "      <td>9103640</td>\n",
       "      <td>1</td>\n",
       "      <td>NORMAL-9103640-1.jpeg</td>\n",
       "      <td>train</td>\n",
       "    </tr>\n",
       "    <tr>\n",
       "      <th>2</th>\n",
       "      <td>./train/NORMAL/NORMAL-9593905-3.jpeg</td>\n",
       "      <td>0</td>\n",
       "      <td>9593905</td>\n",
       "      <td>3</td>\n",
       "      <td>NORMAL-9593905-3.jpeg</td>\n",
       "      <td>train</td>\n",
       "    </tr>\n",
       "    <tr>\n",
       "      <th>3</th>\n",
       "      <td>./train/NORMAL/NORMAL-8115192-10.jpeg</td>\n",
       "      <td>0</td>\n",
       "      <td>8115192</td>\n",
       "      <td>10</td>\n",
       "      <td>NORMAL-8115192-10.jpeg</td>\n",
       "      <td>train</td>\n",
       "    </tr>\n",
       "    <tr>\n",
       "      <th>4</th>\n",
       "      <td>./train/NORMAL/NORMAL-1498414-1.jpeg</td>\n",
       "      <td>0</td>\n",
       "      <td>1498414</td>\n",
       "      <td>1</td>\n",
       "      <td>NORMAL-1498414-1.jpeg</td>\n",
       "      <td>train</td>\n",
       "    </tr>\n",
       "  </tbody>\n",
       "</table>\n",
       "</div>"
      ],
      "text/plain": [
       "                                    path  target  subject  serial  \\\n",
       "0   ./train/NORMAL/NORMAL-4161487-6.jpeg       0  4161487       6   \n",
       "1   ./train/NORMAL/NORMAL-9103640-1.jpeg       0  9103640       1   \n",
       "2   ./train/NORMAL/NORMAL-9593905-3.jpeg       0  9593905       3   \n",
       "3  ./train/NORMAL/NORMAL-8115192-10.jpeg       0  8115192      10   \n",
       "4   ./train/NORMAL/NORMAL-1498414-1.jpeg       0  1498414       1   \n",
       "\n",
       "                    image source  \n",
       "0   NORMAL-4161487-6.jpeg  train  \n",
       "1   NORMAL-9103640-1.jpeg  train  \n",
       "2   NORMAL-9593905-3.jpeg  train  \n",
       "3  NORMAL-8115192-10.jpeg  train  \n",
       "4   NORMAL-1498414-1.jpeg  train  "
      ]
     },
     "execution_count": 94,
     "metadata": {},
     "output_type": "execute_result"
    }
   ],
   "source": [
    "df = pd.read_csv('kermany_metadata.csv')\n",
    "df.head()"
   ]
  },
  {
   "cell_type": "code",
   "execution_count": 106,
   "metadata": {},
   "outputs": [
    {
     "data": {
      "text/plain": [
       "array([4161487, 9103640, 9593905, ..., 8743785, 4228560, 9983517])"
      ]
     },
     "execution_count": 106,
     "metadata": {},
     "output_type": "execute_result"
    }
   ],
   "source": [
    "df[df['source'] == 'train']['subject'].unique()"
   ]
  },
  {
   "cell_type": "code",
   "execution_count": 127,
   "metadata": {},
   "outputs": [
    {
     "name": "stdout",
     "output_type": "stream",
     "text": [
      "worker_0 1595 212\n",
      "worker_1 1595 212\n",
      "worker_2 1595 211\n"
     ]
    }
   ],
   "source": [
    "unique_train_subjects = df[df['source'] == 'train']['subject'].unique()\n",
    "unique_test_subjects = df[df['source'] == 'test']['subject'].unique()\n",
    "random.Random(42).shuffle(unique_train_subjects)\n",
    "random.Random(42).shuffle(unique_test_subjects)\n",
    "train_workers = np.array_split(unique_train_subjects, num_workers)\n",
    "test_workers = np.array_split(unique_test_subjects, num_workers)\n",
    "for i in range(num_workers):\n",
    "    print(\"worker_\" + str(i), len(train_workers[i]), len(test_workers[i]))"
   ]
  },
  {
   "cell_type": "code",
   "execution_count": 128,
   "metadata": {},
   "outputs": [
    {
     "name": "stdout",
     "output_type": "stream",
     "text": [
      "kermany train data for worker_0 is transferred\n",
      "kermany test data for worker_0 is transferred\n",
      "kermany train data for worker_1 is transferred\n",
      "kermany test data for worker_1 is transferred\n",
      "kermany train data for worker_2 is transferred\n",
      "kermany test data for worker_2 is transferred\n"
     ]
    }
   ],
   "source": [
    "for i in range(num_workers):\n",
    "    # create mapping.csv\n",
    "    df[df.subject.isin(train_workers[i])][['image', 'target']].to_csv(worker_path + '/worker_{0}/{1}/train/mapping.csv'.format(i, dataset), index=False)\n",
    "    df[df.subject.isin(test_workers[i])][['image', 'target']].to_csv(worker_path + '/worker_{0}/{1}/test/mapping.csv'.format(i, dataset), index=False)\n",
    "    \n",
    "    # distribute the images\n",
    "    for file in df[df.subject.isin(train_workers[i])].path.values:\n",
    "        shutil.copy2(file, worker_path + \"/worker_{0}/{1}/train/\".format(i, dataset))\n",
    "    print('{1} train data for worker_{0} is transferred'.format(i, dataset))\n",
    "    for file in df[df.subject.isin(test_workers[i])].path.values:\n",
    "        shutil.copy2(file, worker_path + \"/worker_{0}/{1}/test/\".format(i, dataset))\n",
    "    print('{1} test data for worker_{0} is transferred'.format(i, dataset))"
   ]
  },
  {
   "cell_type": "code",
   "execution_count": null,
   "metadata": {},
   "outputs": [],
   "source": []
  }
 ],
 "metadata": {
  "kernelspec": {
   "display_name": "Python 3",
   "language": "python",
   "name": "python3"
  },
  "language_info": {
   "codemirror_mode": {
    "name": "ipython",
    "version": 3
   },
   "file_extension": ".py",
   "mimetype": "text/x-python",
   "name": "python",
   "nbconvert_exporter": "python",
   "pygments_lexer": "ipython3",
   "version": "3.8.3"
  }
 },
 "nbformat": 4,
 "nbformat_minor": 4
}
