{
 "cells": [
  {
   "cell_type": "code",
   "execution_count": 1,
   "metadata": {},
   "outputs": [],
   "source": [
    "import glob, os\n",
    "import shutil\n",
    "import json\n",
    "import random\n",
    "\n",
    "import numpy as np\n",
    "import pandas as pd"
   ]
  },
  {
   "cell_type": "code",
   "execution_count": 2,
   "metadata": {},
   "outputs": [],
   "source": [
    "num_workers = 2\n",
    "dataset = 'kermany'\n",
    "dataset_info = 'kermany_metadata.csv'\n",
    "worker_path = '..'\n",
    "\n",
    "metadata = {\n",
    "    \"datatype\": \"image\",\n",
    "    \"operations\": {\n",
    "        'use_grayscale': True,\n",
    "        'use_alpha': False,\n",
    "        'use_deepaugment': True\n",
    "    }\n",
    "}"
   ]
  },
  {
   "cell_type": "code",
   "execution_count": 3,
   "metadata": {},
   "outputs": [],
   "source": [
    "for i in range(num_workers):\n",
    "    data_path = '/{1}/data{0}'.format(i+1, dataset)\n",
    "    os.makedirs(worker_path + data_path + '/train')\n",
    "    os.makedirs(worker_path + data_path + '/evaluate')\n",
    "    os.makedirs(worker_path + data_path + '/predict')\n",
    "    # create metadata.json\n",
    "    with open(worker_path + data_path + '/train/metadata.json', 'w') as f:\n",
    "        json.dump(metadata, f)\n",
    "    with open(worker_path + data_path + '/evaluate/metadata.json', 'w') as f:\n",
    "        json.dump(metadata, f)\n",
    "    with open(worker_path + data_path + '/predict/metadata.json', 'w') as f:\n",
    "        json.dump(metadata, f)"
   ]
  },
  {
   "cell_type": "code",
   "execution_count": 4,
   "metadata": {},
   "outputs": [
    {
     "data": {
      "text/html": [
       "<div>\n",
       "<style scoped>\n",
       "    .dataframe tbody tr th:only-of-type {\n",
       "        vertical-align: middle;\n",
       "    }\n",
       "\n",
       "    .dataframe tbody tr th {\n",
       "        vertical-align: top;\n",
       "    }\n",
       "\n",
       "    .dataframe thead th {\n",
       "        text-align: right;\n",
       "    }\n",
       "</style>\n",
       "<table border=\"1\" class=\"dataframe\">\n",
       "  <thead>\n",
       "    <tr style=\"text-align: right;\">\n",
       "      <th></th>\n",
       "      <th>path</th>\n",
       "      <th>target</th>\n",
       "      <th>subject</th>\n",
       "      <th>serial</th>\n",
       "      <th>image</th>\n",
       "      <th>source</th>\n",
       "    </tr>\n",
       "  </thead>\n",
       "  <tbody>\n",
       "    <tr>\n",
       "      <th>0</th>\n",
       "      <td>../train/DRUSEN/DRUSEN-3086272-13.jpeg</td>\n",
       "      <td>1</td>\n",
       "      <td>3086272</td>\n",
       "      <td>13</td>\n",
       "      <td>DRUSEN-3086272-13.jpeg</td>\n",
       "      <td>train</td>\n",
       "    </tr>\n",
       "    <tr>\n",
       "      <th>1</th>\n",
       "      <td>../train/DRUSEN/DRUSEN-5743416-32.jpeg</td>\n",
       "      <td>1</td>\n",
       "      <td>5743416</td>\n",
       "      <td>32</td>\n",
       "      <td>DRUSEN-5743416-32.jpeg</td>\n",
       "      <td>train</td>\n",
       "    </tr>\n",
       "    <tr>\n",
       "      <th>2</th>\n",
       "      <td>../train/DRUSEN/DRUSEN-5434336-6.jpeg</td>\n",
       "      <td>1</td>\n",
       "      <td>5434336</td>\n",
       "      <td>6</td>\n",
       "      <td>DRUSEN-5434336-6.jpeg</td>\n",
       "      <td>train</td>\n",
       "    </tr>\n",
       "    <tr>\n",
       "      <th>3</th>\n",
       "      <td>../train/DRUSEN/DRUSEN-9547888-18.jpeg</td>\n",
       "      <td>1</td>\n",
       "      <td>9547888</td>\n",
       "      <td>18</td>\n",
       "      <td>DRUSEN-9547888-18.jpeg</td>\n",
       "      <td>train</td>\n",
       "    </tr>\n",
       "    <tr>\n",
       "      <th>4</th>\n",
       "      <td>../train/DRUSEN/DRUSEN-9059831-2.jpeg</td>\n",
       "      <td>1</td>\n",
       "      <td>9059831</td>\n",
       "      <td>2</td>\n",
       "      <td>DRUSEN-9059831-2.jpeg</td>\n",
       "      <td>train</td>\n",
       "    </tr>\n",
       "  </tbody>\n",
       "</table>\n",
       "</div>"
      ],
      "text/plain": [
       "                                     path  target  subject  serial  \\\n",
       "0  ../train/DRUSEN/DRUSEN-3086272-13.jpeg       1  3086272      13   \n",
       "1  ../train/DRUSEN/DRUSEN-5743416-32.jpeg       1  5743416      32   \n",
       "2   ../train/DRUSEN/DRUSEN-5434336-6.jpeg       1  5434336       6   \n",
       "3  ../train/DRUSEN/DRUSEN-9547888-18.jpeg       1  9547888      18   \n",
       "4   ../train/DRUSEN/DRUSEN-9059831-2.jpeg       1  9059831       2   \n",
       "\n",
       "                    image source  \n",
       "0  DRUSEN-3086272-13.jpeg  train  \n",
       "1  DRUSEN-5743416-32.jpeg  train  \n",
       "2   DRUSEN-5434336-6.jpeg  train  \n",
       "3  DRUSEN-9547888-18.jpeg  train  \n",
       "4   DRUSEN-9059831-2.jpeg  train  "
      ]
     },
     "execution_count": 4,
     "metadata": {},
     "output_type": "execute_result"
    }
   ],
   "source": [
    "df = pd.read_csv('kermany_metadata.csv')\n",
    "df.head()"
   ]
  },
  {
   "cell_type": "code",
   "execution_count": 16,
   "metadata": {},
   "outputs": [
    {
     "name": "stdout",
     "output_type": "stream",
     "text": [
      "worker_0 2093 300 318\n",
      "worker_1 2092 300 317\n"
     ]
    }
   ],
   "source": [
    "unique_train_subjects = df[df['source'] == 'train']['subject'].unique()\n",
    "unique_test_subjects = df[df['source'] == 'test']['subject'].unique()\n",
    "random.Random(42).shuffle(unique_train_subjects)\n",
    "random.Random(42).shuffle(unique_test_subjects)\n",
    "unique_val_subjects, unique_train_subjects = np.split(unique_train_subjects, [600])\n",
    "\n",
    "train_workers = np.array_split(unique_train_subjects, num_workers)\n",
    "val_workers = np.array_split(unique_val_subjects, num_workers)\n",
    "test_workers = np.array_split(unique_test_subjects, num_workers)\n",
    "for i in range(num_workers):\n",
    "    print(\"worker_\" + str(i), len(train_workers[i]), len(val_workers[i]), len(test_workers[i]))"
   ]
  },
  {
   "cell_type": "code",
   "execution_count": 17,
   "metadata": {},
   "outputs": [
    {
     "name": "stdout",
     "output_type": "stream",
     "text": [
      "kermany train data for worker_0 is transferred\n",
      "kermany val data for worker_0 is transferred\n",
      "kermany test data for worker_0 is transferred\n",
      "kermany train data for worker_1 is transferred\n",
      "kermany val data for worker_1 is transferred\n",
      "kermany test data for worker_1 is transferred\n"
     ]
    }
   ],
   "source": [
    "for i in range(num_workers):\n",
    "    # create mapping.csv\n",
    "    data_path = '/{1}/data{0}/'.format(i+1, dataset)\n",
    "    df[df.subject.isin(train_workers[i])][['image', 'target']].to_csv(worker_path + data_path + '/train/mapping.csv', index=False)\n",
    "    df[df.subject.isin(val_workers[i])][['image', 'target']].to_csv(worker_path + data_path + '/evaluate/mapping.csv', index=False)\n",
    "    df[df.subject.isin(test_workers[i])][['image', 'target']].to_csv(worker_path + data_path + '/predict/mapping.csv', index=False)\n",
    "    \n",
    "    # distribute the images\n",
    "    for file in df[df.subject.isin(train_workers[i])].path.values:\n",
    "        shutil.copy2(file, worker_path + data_path + \"/train/\")\n",
    "    print('{1} train data for worker_{0} is transferred'.format(i, dataset))\n",
    "    \n",
    "    for file in df[df.subject.isin(val_workers[i])].path.values:\n",
    "        shutil.copy2(file, worker_path + data_path + \"/evaluate/\")\n",
    "    print('{1} val data for worker_{0} is transferred'.format(i, dataset))\n",
    "    \n",
    "    for file in df[df.subject.isin(test_workers[i])].path.values:\n",
    "        shutil.copy2(file, worker_path + data_path + \"/predict/\")\n",
    "    print('{1} test data for worker_{0} is transferred'.format(i, dataset))"
   ]
  },
  {
   "cell_type": "code",
   "execution_count": null,
   "metadata": {},
   "outputs": [],
   "source": []
  }
 ],
 "metadata": {
  "kernelspec": {
   "display_name": "Python 3",
   "language": "python",
   "name": "python3"
  },
  "language_info": {
   "codemirror_mode": {
    "name": "ipython",
    "version": 3
   },
   "file_extension": ".py",
   "mimetype": "text/x-python",
   "name": "python",
   "nbconvert_exporter": "python",
   "pygments_lexer": "ipython3",
   "version": "3.9.7"
  }
 },
 "nbformat": 4,
 "nbformat_minor": 4
}
