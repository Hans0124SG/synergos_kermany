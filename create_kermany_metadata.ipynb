{
 "cells": [
  {
   "cell_type": "code",
   "execution_count": 8,
   "metadata": {},
   "outputs": [],
   "source": [
    "import pandas as pd\n",
    "import glob"
   ]
  },
  {
   "cell_type": "code",
   "execution_count": 9,
   "metadata": {},
   "outputs": [
    {
     "data": {
      "text/html": [
       "<div>\n",
       "<style scoped>\n",
       "    .dataframe tbody tr th:only-of-type {\n",
       "        vertical-align: middle;\n",
       "    }\n",
       "\n",
       "    .dataframe tbody tr th {\n",
       "        vertical-align: top;\n",
       "    }\n",
       "\n",
       "    .dataframe thead th {\n",
       "        text-align: right;\n",
       "    }\n",
       "</style>\n",
       "<table border=\"1\" class=\"dataframe\">\n",
       "  <thead>\n",
       "    <tr style=\"text-align: right;\">\n",
       "      <th></th>\n",
       "      <th>path</th>\n",
       "      <th>target</th>\n",
       "      <th>subject</th>\n",
       "      <th>serial</th>\n",
       "      <th>image</th>\n",
       "      <th>source</th>\n",
       "    </tr>\n",
       "  </thead>\n",
       "  <tbody>\n",
       "    <tr>\n",
       "      <th>0</th>\n",
       "      <td>./train/NORMAL/NORMAL-4161487-6.jpeg</td>\n",
       "      <td>0</td>\n",
       "      <td>4161487</td>\n",
       "      <td>6</td>\n",
       "      <td>NORMAL-4161487-6.jpeg</td>\n",
       "      <td>train</td>\n",
       "    </tr>\n",
       "    <tr>\n",
       "      <th>1</th>\n",
       "      <td>./train/NORMAL/NORMAL-9103640-1.jpeg</td>\n",
       "      <td>0</td>\n",
       "      <td>9103640</td>\n",
       "      <td>1</td>\n",
       "      <td>NORMAL-9103640-1.jpeg</td>\n",
       "      <td>train</td>\n",
       "    </tr>\n",
       "    <tr>\n",
       "      <th>2</th>\n",
       "      <td>./train/NORMAL/NORMAL-9593905-3.jpeg</td>\n",
       "      <td>0</td>\n",
       "      <td>9593905</td>\n",
       "      <td>3</td>\n",
       "      <td>NORMAL-9593905-3.jpeg</td>\n",
       "      <td>train</td>\n",
       "    </tr>\n",
       "    <tr>\n",
       "      <th>3</th>\n",
       "      <td>./train/NORMAL/NORMAL-8115192-10.jpeg</td>\n",
       "      <td>0</td>\n",
       "      <td>8115192</td>\n",
       "      <td>10</td>\n",
       "      <td>NORMAL-8115192-10.jpeg</td>\n",
       "      <td>train</td>\n",
       "    </tr>\n",
       "    <tr>\n",
       "      <th>4</th>\n",
       "      <td>./train/NORMAL/NORMAL-1498414-1.jpeg</td>\n",
       "      <td>0</td>\n",
       "      <td>1498414</td>\n",
       "      <td>1</td>\n",
       "      <td>NORMAL-1498414-1.jpeg</td>\n",
       "      <td>train</td>\n",
       "    </tr>\n",
       "  </tbody>\n",
       "</table>\n",
       "</div>"
      ],
      "text/plain": [
       "                                    path  target  subject serial  \\\n",
       "0   ./train/NORMAL/NORMAL-4161487-6.jpeg       0  4161487      6   \n",
       "1   ./train/NORMAL/NORMAL-9103640-1.jpeg       0  9103640      1   \n",
       "2   ./train/NORMAL/NORMAL-9593905-3.jpeg       0  9593905      3   \n",
       "3  ./train/NORMAL/NORMAL-8115192-10.jpeg       0  8115192     10   \n",
       "4   ./train/NORMAL/NORMAL-1498414-1.jpeg       0  1498414      1   \n",
       "\n",
       "                    image source  \n",
       "0   NORMAL-4161487-6.jpeg  train  \n",
       "1   NORMAL-9103640-1.jpeg  train  \n",
       "2   NORMAL-9593905-3.jpeg  train  \n",
       "3  NORMAL-8115192-10.jpeg  train  \n",
       "4   NORMAL-1498414-1.jpeg  train  "
      ]
     },
     "execution_count": 9,
     "metadata": {},
     "output_type": "execute_result"
    }
   ],
   "source": [
    "target = {'NORMAL': 0, 'DRUSEN': 1, 'CNV': 2, 'DME': 3}\n",
    "src_path = '.'\n",
    "training_set = []\n",
    "\n",
    "for label in glob.glob(src_path + \"/train/*\"):\n",
    "    for abs_path in glob.glob(src_path + \"/train/{0}/*\".format(label.split('/')[-1])):\n",
    "        training_set.append([abs_path, label.split('/')[-1]])\n",
    "df_train = pd.DataFrame(training_set).rename(columns={0: \"path\", 1: \"target\"})\n",
    "\n",
    "df_train['subject'] = df_train['path'].apply(lambda x: x.split('/')[-1].split('-')[1])\n",
    "df_train['serial'] = df_train['path'].apply(lambda x: x.split('/')[-1].split('-')[2].split('.')[0])\n",
    "df_train['image'] = df_train['path'].apply(lambda x: x.split('/')[-1])\n",
    "df_train['source'] = 'train'\n",
    "\n",
    "test_set = []\n",
    "for label in glob.glob(src_path + \"/test/*\"):\n",
    "    for abs_path in glob.glob(src_path + \"/test/{0}/*\".format(label.split('/')[-1])):\n",
    "        test_set.append([abs_path, label.split('/')[-1]])\n",
    "df_test = pd.DataFrame(test_set).rename(columns={0: \"path\", 1: \"target\"})\n",
    "\n",
    "df_test['subject'] = df_test['path'].apply(lambda x: x.split('/')[-1].split('-')[1])\n",
    "df_test['serial'] = df_test['path'].apply(lambda x: x.split('/')[-1].split('-')[2].split('.')[0])\n",
    "df_test['image'] = df_test['path'].apply(lambda x: x.split('/')[-1])\n",
    "df_test['source'] = 'test'\n",
    "df_test\n",
    "\n",
    "df = pd.concat([df_train, df_test])\n",
    "df['target'] = df['target'].apply(lambda x: target[x])\n",
    "df.head()"
   ]
  },
  {
   "cell_type": "code",
   "execution_count": 10,
   "metadata": {},
   "outputs": [],
   "source": [
    "df.to_csv('kermany_metadata.csv', index=False)"
   ]
  },
  {
   "cell_type": "code",
   "execution_count": null,
   "metadata": {},
   "outputs": [],
   "source": []
  }
 ],
 "metadata": {
  "kernelspec": {
   "display_name": "Python 3",
   "language": "python",
   "name": "python3"
  },
  "language_info": {
   "codemirror_mode": {
    "name": "ipython",
    "version": 3
   },
   "file_extension": ".py",
   "mimetype": "text/x-python",
   "name": "python",
   "nbconvert_exporter": "python",
   "pygments_lexer": "ipython3",
   "version": "3.8.3"
  }
 },
 "nbformat": 4,
 "nbformat_minor": 4
}
